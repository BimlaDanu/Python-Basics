{
 "cells": [
  {
   "attachments": {},
   "cell_type": "markdown",
   "metadata": {},
   "source": [
    "# Challenge"
   ]
  },
  {
   "attachments": {},
   "cell_type": "markdown",
   "metadata": {},
   "source": [
    "## Instructions "
   ]
  },
  {
   "attachments": {},
   "cell_type": "markdown",
   "metadata": {},
   "source": [
    "For this assignment you'll be working through solving more problems, but this time by building functions from scratch. \n",
    "\n",
    "\n",
    "For each problem, you should build a function into your solution. We will build each function into it's own cell, and then call it with some arguments in the next cell right after you define it. "
   ]
  },
  {
   "attachments": {},
   "cell_type": "markdown",
   "metadata": {},
   "source": [
    "For example, pretend all of the following is the solution to one of the problems, written in a function first and then called (for testing purposes) below. \n",
    "\n",
    "```python \n",
    "def my_func(param1, param2, param3): \n",
    "    # Function code to solve the problem\n",
    "\n",
    "print(my_func(param11, param21, param31))\n",
    "print(my_func(param12, param22, param32))\n",
    "print(my_func(param13, param23, param33))\n",
    "print(my_func(param14, param24, param34))\n",
    "print(my_func(param15, param25, param35))\n",
    "```\n",
    "\n",
    "Note above that `my_func` is called five times after it's definition. \n",
    "\n",
    "\n",
    "These tests should check that `my_func` works correctly with different sets of arguments. You should aim to test your functions at least 5 times after you write them. It's good to try to think of tests that your function might not solve correctly (we call these **edge cases**). Not only does thinking like this help you solve the problem, but it also gives you more faith in your solution."
   ]
  },
  {
   "attachments": {},
   "cell_type": "markdown",
   "metadata": {},
   "source": [
    "## Assignment Questions "
   ]
  },
  {
   "attachments": {},
   "cell_type": "markdown",
   "metadata": {},
   "source": [
    "### Part 1 - Basic Practice "
   ]
  },
  {
   "attachments": {},
   "cell_type": "markdown",
   "metadata": {},
   "source": [
    "For the first part of the assignment, we're going to get some practice taking something we've already written and translating it to a function. In continuation of prior assignments, \n",
    "\n",
    "1. Write a function that computes the factorial for an inputted number.  \n",
    "2. Write a function that determines whether or not an inputted number is prime, and then prints 'The number you inputted is a prime/ not a prime number.' depending on what your script finds (note that this means putting a `print` in front of the function when testing it will be redundant for this case). \n",
    "\n"
   ]
  },
  {
   "cell_type": "code",
   "execution_count": 1,
   "metadata": {},
   "outputs": [],
   "source": [
    "def factorial_func(l):\n",
    "    fac = 1\n",
    "    for i in range(2,l+1):\n",
    "        fac = fac*i\n",
    "    return fac"
   ]
  },
  {
   "cell_type": "code",
   "execution_count": 3,
   "metadata": {},
   "outputs": [
    {
     "name": "stdout",
     "output_type": "stream",
     "text": [
      "120\n"
     ]
    }
   ],
   "source": [
    "print(factorial_func(5))"
   ]
  },
  {
   "attachments": {},
   "cell_type": "markdown",
   "metadata": {},
   "source": []
  },
  {
   "cell_type": "code",
   "execution_count": 2,
   "metadata": {},
   "outputs": [],
   "source": [
    "def func_prime_number(number):\n",
    "    if number > 1:\n",
    "        for i in range(2, number):\n",
    "            if (number % i) == 0:\n",
    "                print(number, \"is not a prime number\")\n",
    "                break\n",
    "        else:\n",
    "            print(number, \"is a prime number\")\n",
    "    else:\n",
    "        print(number, \"is not a prime number\")"
   ]
  },
  {
   "cell_type": "code",
   "execution_count": 3,
   "metadata": {},
   "outputs": [
    {
     "name": "stdout",
     "output_type": "stream",
     "text": [
      "21 is not a prime number\n"
     ]
    }
   ],
   "source": [
    "func_prime_number(21)"
   ]
  },
  {
   "cell_type": "code",
   "execution_count": null,
   "metadata": {},
   "outputs": [],
   "source": []
  },
  {
   "attachments": {},
   "cell_type": "markdown",
   "metadata": {},
   "source": []
  },
  {
   "attachments": {},
   "cell_type": "markdown",
   "metadata": {},
   "source": [
    "### Part 2 - Advanced Practice \n",
    "\n"
   ]
  },
  {
   "attachments": {},
   "cell_type": "markdown",
   "metadata": {},
   "source": [
    "Now we're going to push our problem solving and programming skills even further by coding up functions to solve new problems. For each of the problems below, I would suggest coding it up in a similar way to how you did the other two (building the function, and then calling it some number of times (5) to test it out after that). \n",
    "\n",
    "1. Write a function that counts the number of words in an inputted string, where we consider words to be separated by spaces. \n",
    "2. Write a function that counts the number of words in an inputted string, where we consider words to be separated by a specified delimiter (so your function should accept two arguments, one for the string and one for the delimiter) and a space is defined as the default delimiter.  \n",
    "3. Write a function that takes in a string, and returns a list that holds the length of each word in the phrase, separated by an inputted delimiter (so you're function should accept two arguments again). Make a space the default delimiter like you did in `2`. For example, if the arguments to your function were `This is a test string` (and nothing else), your function should return `[4, 2, 1, 4, 6]`. Go ahead and don't worry about removing punctuation (you can include it in the word length - e.g. \"this.\" has five letters, if we count the period). \n",
    "4. Write a function that returns all the prime numbers up to an inputted number (**Hint**: It might be helpful to use/modify the prime function you wrote earlier).    \n",
    "5. Write a function that takes in a list of numbers, as well as an additional number (i.e. two arguments), and returns a list of `yes` or `no` depending on whether each number in the list is divisible by the second number. For example, if I input `[10, 25, 36, 12, 20]` as the list of numbers, and `5` as the additional number, your function should return `['yes', 'yes', 'no', 'no', 'yes']`.\n",
    "6. Write a function that takes in a list of strings, as well as an inputted letter (which looks like a string with a single character), and returns a list of only those strings from the input list that end with that letter. For example, if I input `['I', 'am', 'in', 'love', 'with', 'Python']` as the list of strings, and `n` as the inputted letter, your function should return `['in', 'Python']`.\n",
    "7. Write a function that takes in a list of strings, as well as an inputted substring (i.e. another string), and returns a list of the indices of the strings that contain that inputted substring. For example, if I input `['This', 'is, 'an' , 'example']` as the list of strings, and `is` as the substring, your function should return `[0, 1]`.\n",
    "\n",
    " "
   ]
  },
  {
   "cell_type": "code",
   "execution_count": 4,
   "metadata": {},
   "outputs": [],
   "source": [
    "#1 we will come back again \n",
    "lst = ''\n",
    "def string_count(string):\n",
    "    num = 0\n",
    "    for i in string:\n",
    "        if i != ' ':\n",
    "            num += i\n",
    "    return num\n",
    "\n",
    "\n",
    "     "
   ]
  },
  {
   "cell_type": "code",
   "execution_count": 5,
   "metadata": {},
   "outputs": [
    {
     "ename": "TypeError",
     "evalue": "unsupported operand type(s) for +=: 'int' and 'str'",
     "output_type": "error",
     "traceback": [
      "\u001b[0;31m---------------------------------------------------------------------------\u001b[0m",
      "\u001b[0;31mTypeError\u001b[0m                                 Traceback (most recent call last)",
      "Cell \u001b[0;32mIn[5], line 1\u001b[0m\n\u001b[0;32m----> 1\u001b[0m string_count(\u001b[39m'\u001b[39;49m\u001b[39mthis is test\u001b[39;49m\u001b[39m'\u001b[39;49m)\n",
      "Cell \u001b[0;32mIn[4], line 7\u001b[0m, in \u001b[0;36mstring_count\u001b[0;34m(string)\u001b[0m\n\u001b[1;32m      5\u001b[0m \u001b[39mfor\u001b[39;00m i \u001b[39min\u001b[39;00m string:\n\u001b[1;32m      6\u001b[0m     \u001b[39mif\u001b[39;00m i \u001b[39m!=\u001b[39m \u001b[39m'\u001b[39m\u001b[39m \u001b[39m\u001b[39m'\u001b[39m:\n\u001b[0;32m----> 7\u001b[0m         num \u001b[39m+\u001b[39;49m\u001b[39m=\u001b[39;49m i\n\u001b[1;32m      8\u001b[0m \u001b[39mreturn\u001b[39;00m num\n",
      "\u001b[0;31mTypeError\u001b[0m: unsupported operand type(s) for +=: 'int' and 'str'"
     ]
    }
   ],
   "source": [
    "string_count('this is test')"
   ]
  },
  {
   "cell_type": "code",
   "execution_count": 6,
   "metadata": {},
   "outputs": [],
   "source": [
    "#Write a function that counts the number of words in an inputted string, where we consider words to be separated by spaces. \n",
    "2. \n",
    "def count_num_words(string):\n",
    "    new_string = string.split(\" \")\n",
    "    return len(new_string)"
   ]
  },
  {
   "cell_type": "code",
   "execution_count": 7,
   "metadata": {},
   "outputs": [
    {
     "data": {
      "text/plain": [
       "4"
      ]
     },
     "execution_count": 7,
     "metadata": {},
     "output_type": "execute_result"
    }
   ],
   "source": [
    "count_num_words ('this is a string')"
   ]
  },
  {
   "cell_type": "code",
   "execution_count": 8,
   "metadata": {},
   "outputs": [],
   "source": [
    "#2Write a function that counts the number of words in an inputted string, where we consider words to be separated by a specified delimiter \n",
    "def count_num_words1(string, delim):\n",
    "    new_string = string.split(delim)\n",
    "   #print (new_string)\n",
    "    return len(new_string)\n"
   ]
  },
  {
   "cell_type": "code",
   "execution_count": 11,
   "metadata": {},
   "outputs": [
    {
     "data": {
      "text/plain": [
       "4"
      ]
     },
     "execution_count": 11,
     "metadata": {},
     "output_type": "execute_result"
    }
   ],
   "source": [
    "count_num_words1('hello world', 'l' )\n"
   ]
  },
  {
   "cell_type": "code",
   "execution_count": 9,
   "metadata": {},
   "outputs": [],
   "source": [
    "#3Write a function that takes in a string, and returns a list that holds the length of each word in the phrase, \n",
    "#separated by an inputted delimiter (so you're function should accept two arguments again). Make a space the default delimiter \n",
    "#like you did in `2`. For example, if the arguments to your function were `This is a test string` \n",
    "#(and nothing else), your function should return `[4, 2, 1, 4, 6]`. Go ahead and don't worry about \n",
    "#removing punctuation (you can include it in the word length - e.g. \"this.\" has five letters, if we count the period). \n",
    "def count_num_words2(string, delim = \" \"):\n",
    "    new_string = string.split(delim)\n",
    "    #i=0\n",
    "    length = []\n",
    "    for eachword in new_string:\n",
    "        length.append(len(eachword))\n",
    "    return length\n"
   ]
  },
  {
   "cell_type": "code",
   "execution_count": 13,
   "metadata": {},
   "outputs": [
    {
     "name": "stdout",
     "output_type": "stream",
     "text": [
      "[2, 2, 7, 3]\n"
     ]
    }
   ],
   "source": [
    "print(count_num_words2(\"This is a string.\", \"i\"))\n",
    " \n",
    "\n"
   ]
  },
  {
   "cell_type": "code",
   "execution_count": 36,
   "metadata": {},
   "outputs": [],
   "source": [
    "# Write a function that returns all the prime numbers up to an inputted number \n",
    "# (**Hint**: It might be helpful to use/modify the prime function you wrote earlier)\n",
    "\n",
    "def func_prime_number(number):\n",
    "    list_prime = []\n",
    "    if number > 1:\n",
    "        for i in range(2, number):\n",
    "            if (number % i) == 0:\n",
    "              #  print(number, \"is not a prime number\")\n",
    "                break\n",
    "        else:\n",
    "            list_prime.append(i)\n",
    "            print(number, \"is a prime number\")\n",
    "    else:\n",
    "        print(number, \"is not a prime number\")\n",
    "    return  list_prime\n"
   ]
  },
  {
   "cell_type": "code",
   "execution_count": 37,
   "metadata": {},
   "outputs": [
    {
     "name": "stdout",
     "output_type": "stream",
     "text": [
      "7 is a prime number\n"
     ]
    },
    {
     "data": {
      "text/plain": [
       "[6]"
      ]
     },
     "execution_count": 37,
     "metadata": {},
     "output_type": "execute_result"
    }
   ],
   "source": [
    "func_prime_number(7)"
   ]
  },
  {
   "cell_type": "code",
   "execution_count": 62,
   "metadata": {},
   "outputs": [],
   "source": [
    "def func_prime_number(number):\n",
    "    list_prime = []\n",
    "    if number > 1:\n",
    "        for i in range(2, int(number**0.5)+1):\n",
    "            if (number % i) == 0:\n",
    "                return False\n",
    "        else:\n",
    "            list_prime.append(number)\n",
    "            return True\n",
    "    else:\n",
    "        return False\n",
    "    return  list_prime\n"
   ]
  },
  {
   "cell_type": "code",
   "execution_count": 61,
   "metadata": {},
   "outputs": [
    {
     "data": {
      "text/plain": [
       "True"
      ]
     },
     "execution_count": 61,
     "metadata": {},
     "output_type": "execute_result"
    }
   ],
   "source": [
    "func_prime_number(7)"
   ]
  },
  {
   "cell_type": "code",
   "execution_count": 55,
   "metadata": {},
   "outputs": [],
   "source": [
    "def func_prime_number(number):\n",
    "    if number > 1:\n",
    "        for i in range(2, int(number**0.5)+1):  # Optimized the loop by using square root of number as upper limit\n",
    "            if (number % i) == 0:\n",
    "                print(number, \"is not a prime number\")\n",
    "                break\n",
    "        else:\n",
    "            print(number, \"is a prime number\")\n",
    "    else:\n",
    "        print(number, \"is not a prime number\")"
   ]
  },
  {
   "cell_type": "code",
   "execution_count": 56,
   "metadata": {},
   "outputs": [
    {
     "name": "stdout",
     "output_type": "stream",
     "text": [
      "7 is a prime number\n"
     ]
    }
   ],
   "source": [
    "func_prime_number(7)"
   ]
  },
  {
   "cell_type": "code",
   "execution_count": 31,
   "metadata": {},
   "outputs": [],
   "source": [
    "#chat gpt\n",
    "\n",
    "def get_prime_numbers(n):\n",
    "    prime_numbers = []\n",
    "\n",
    "    # Check each number from 2 up to n\n",
    "    for num in range(2, n + 1):\n",
    "        is_prime = True\n",
    "\n",
    "        # Check if num is divisible by any number from 2 to its square root\n",
    "        for i in range(2, int(num ** 0.5) + 1):\n",
    "            if num % i == 0:\n",
    "                is_prime = False\n",
    "                break\n",
    "\n",
    "        if is_prime:\n",
    "            prime_numbers.append(num)\n",
    "\n",
    "    return prime_numbers\n"
   ]
  },
  {
   "cell_type": "code",
   "execution_count": 30,
   "metadata": {},
   "outputs": [
    {
     "name": "stdout",
     "output_type": "stream",
     "text": [
      "[2, 3, 5, 7]\n"
     ]
    }
   ],
   "source": [
    "n = 7\n",
    "prime_numbers = get_prime_numbers(n)\n",
    "print(prime_numbers)"
   ]
  },
  {
   "cell_type": "code",
   "execution_count": null,
   "metadata": {},
   "outputs": [],
   "source": [
    "#5. Write a function that takes in a list of numbers, as well as an additional number \n",
    "#(i.e. two arguments), and returns a list of `yes` or `no` depending on whether each number \n",
    "#in the list is divisible by the second number. For example, \n",
    "#if I input `[10, 25, 36, 12, 20]` as the list of numbers, and `5` as the additional number,\n",
    "# your function should return `['yes', 'yes', 'no', 'no', 'yes']`.\n"
   ]
  },
  {
   "cell_type": "code",
   "execution_count": 57,
   "metadata": {},
   "outputs": [],
   "source": [
    "def divisib(my_list, div):\n",
    "    response_list = []\n",
    "    for num in my_list:\n",
    "        \n",
    "        if num % div == 0:\n",
    "            response_list.append(\"yes\")\n",
    "        else:\n",
    "            response_list.append(\"no\")\n",
    "    return response_list"
   ]
  },
  {
   "cell_type": "code",
   "execution_count": 58,
   "metadata": {},
   "outputs": [
    {
     "data": {
      "text/plain": [
       "['yes', 'yes', 'no', 'no', 'yes']"
      ]
     },
     "execution_count": 58,
     "metadata": {},
     "output_type": "execute_result"
    }
   ],
   "source": [
    "divisib([10, 25, 36, 12, 20], 5)"
   ]
  },
  {
   "cell_type": "code",
   "execution_count": 60,
   "metadata": {},
   "outputs": [],
   "source": [
    "def end_of_string(my_list, letter):\n",
    "    new_list = []\n",
    "    for element in my_list:\n",
    "            if element[-1] == letter:\n",
    "                new_list.append(element)\n",
    "    return new_list\n"
   ]
  },
  {
   "cell_type": "code",
   "execution_count": 63,
   "metadata": {},
   "outputs": [
    {
     "data": {
      "text/plain": [
       "['in', 'Python']"
      ]
     },
     "execution_count": 63,
     "metadata": {},
     "output_type": "execute_result"
    }
   ],
   "source": [
    "my_list = ['I', 'am', 'in', 'love', 'with', 'Python']\n",
    "end_of_string(my_list, \"n\")"
   ]
  },
  {
   "cell_type": "code",
   "execution_count": 181,
   "metadata": {},
   "outputs": [
    {
     "data": {
      "text/plain": [
       "[0, 1]"
      ]
     },
     "execution_count": 181,
     "metadata": {},
     "output_type": "execute_result"
    }
   ],
   "source": [
    "#7. Write a function that takes in a list of strings, as well as an inputted substring #\n",
    "#(i.e. another string), and returns a list of the indices of the strings that contain that inputted substring. \n",
    "#For example, if I input `['This', 'is, 'an' , 'example']` as the list of strings, and `is` as the substring, \n",
    "#your function should return `[0, 1]`.\n",
    "def sub_string(i_lst, sb_strng):\n",
    "    out_lst = []\n",
    "\n",
    "    for idx,  i in enumerate(i_lst):\n",
    "        if sb_strng in i:\n",
    "            out_lst.append(idx)\n",
    "\n",
    "    return out_lst\n",
    "lst1 = ['This', 'is', 'an' , 'example']\n",
    "sub_string (lst1 , 'is')\n",
    "\n"
   ]
  },
  {
   "attachments": {},
   "cell_type": "markdown",
   "metadata": {},
   "source": []
  },
  {
   "attachments": {},
   "cell_type": "markdown",
   "metadata": {},
   "source": [
    "### Extra Challenge\n",
    "\n"
   ]
  },
  {
   "attachments": {},
   "cell_type": "markdown",
   "metadata": {},
   "source": [
    "### Extra Challenge\n",
    "\n",
    "1. Let's build a calculator for figuring out how much I owe in taxes (and by calculator, I mean function). Write a function that takes in a list of tuples, where each tuple contains two values, as well as an income to compute the taxes on (so your function should accept two arguments). For the tuple list, the first value of a tuple will be an income upper bound, and the second will be a tax rate for all income up to the given income bound. You need to build a calculator that will calculate the tax for all income up to each income bound (if it goes up that high) for the given tax rate. You can assume that the list of tuples will be sorted by the income bound (e.g. the first value in the tuple), such that the lowest income bound will be first, and the highest last (see below for an example).  \n",
    "\n",
    " As an example, let's say my tax info is `[(50000, 0.08), (100000, 0.10), (150000, 0.15)]`. This means that the first 50k of income is taxed at 8%, the second 50k at 10%, and the rest at 15% (note here that any income that comes after the 150k is taxed at 15%. Therefore, giving a highest upper bound is misleading because everything above 100k will be taxed at 15%). So, if the inputted income was 170k, then my taxes would be \n",
    " \n",
    " 50 * 0.08 + 50 * 0.10 + 70 * 0.15 = 19.5k. \n",
    " \n",
    " And if the inputted income was 70k, then my taxes would be\n",
    "\n",
    " \n",
    " 50 * 0.08 + 20 * 0.10 = 6k. \n",
    " \n",
    " You should write your function to be generalized and accept any kind of list of tuples and any inputted income (so it'll accept two arguments).  \n",
    "\n",
    "2. Now modify your solution to accept a list of tuples that is not sorted by the income bound. \n",
    "\n",
    " **Hint**: Trying using the `sorted` function and working with the `key` argument (a [lambda](https://www.educative.io/blog/python-lambda-functions-tutorial) function will probably be helpful here). "
   ]
  },
  {
   "cell_type": "code",
   "execution_count": 2,
   "metadata": {},
   "outputs": [],
   "source": [
    "def tax_cals1(tax_val, income):\n",
    "    tax_input = 0\n",
    "    for idx_ubound, tax_rate in tax_val:\n",
    "        if income <= idx_ubound:\n",
    "            if income <= \n",
    "            tax_input += income * tax_rate\n",
    "            print(1, tax_val, income,tax_input, tax_rate)\n",
    "            break\n",
    "        else:\n",
    "            tax_input += idx_ubound * tax_rate\n",
    "            income -= idx_ubound\n",
    "            print(2, tax_val, income,tax_input, tax_rate)\n",
    "    return tax_input"
   ]
  },
  {
   "cell_type": "code",
   "execution_count": 10,
   "metadata": {},
   "outputs": [],
   "source": [
    "def tax_cals1(tax_val, income):\n",
    "    tax_input = 0\n",
    "    for idx_ubound, tax_rate in tax_val:\n",
    "        if income <= idx_ubound[1]:\n",
    "            tax_input += income * tax_rate\n",
    "            print(1, tax_val, income,tax_input, tax_rate)\n",
    "            break\n",
    "        else:\n",
    "            tax_input += idx_ubound * tax_rate\n",
    "            income -= idx_ubound\n",
    "            print(2, tax_val, income,tax_input, tax_rate)\n",
    "    return tax_input"
   ]
  },
  {
   "attachments": {},
   "cell_type": "markdown",
   "metadata": {},
   "source": []
  },
  {
   "cell_type": "code",
   "execution_count": 11,
   "metadata": {},
   "outputs": [
    {
     "ename": "TypeError",
     "evalue": "'int' object is not subscriptable",
     "output_type": "error",
     "traceback": [
      "\u001b[0;31m---------------------------------------------------------------------------\u001b[0m",
      "\u001b[0;31mTypeError\u001b[0m                                 Traceback (most recent call last)",
      "Cell \u001b[0;32mIn[11], line 4\u001b[0m\n\u001b[1;32m      2\u001b[0m \u001b[39m#income = 170000\u001b[39;00m\n\u001b[1;32m      3\u001b[0m income \u001b[39m=\u001b[39m \u001b[39m100000\u001b[39m\n\u001b[0;32m----> 4\u001b[0m tax_output \u001b[39m=\u001b[39m tax_cals1(tax_val, income)\n\u001b[1;32m      5\u001b[0m \u001b[39mprint\u001b[39m(tax_output)\n",
      "Cell \u001b[0;32mIn[10], line 4\u001b[0m, in \u001b[0;36mtax_cals1\u001b[0;34m(tax_val, income)\u001b[0m\n\u001b[1;32m      2\u001b[0m tax_input \u001b[39m=\u001b[39m \u001b[39m0\u001b[39m\n\u001b[1;32m      3\u001b[0m \u001b[39mfor\u001b[39;00m idx_ubound, tax_rate \u001b[39min\u001b[39;00m tax_val:\n\u001b[0;32m----> 4\u001b[0m     \u001b[39mif\u001b[39;00m income \u001b[39m<\u001b[39m\u001b[39m=\u001b[39m idx_ubound[\u001b[39m1\u001b[39;49m]:\n\u001b[1;32m      5\u001b[0m         tax_input \u001b[39m+\u001b[39m\u001b[39m=\u001b[39m income \u001b[39m*\u001b[39m tax_rate\n\u001b[1;32m      6\u001b[0m         \u001b[39mprint\u001b[39m(\u001b[39m1\u001b[39m, tax_val, income,tax_input, tax_rate)\n",
      "\u001b[0;31mTypeError\u001b[0m: 'int' object is not subscriptable"
     ]
    }
   ],
   "source": [
    "tax_val = [(50000, 0.08), (100000, 0.10), (150000, 0.15)]\n",
    "#income = 170000\n",
    "income = 100000\n",
    "tax_output = tax_cals1(tax_val, income)\n",
    "print(tax_output)"
   ]
  },
  {
   "cell_type": "code",
   "execution_count": 28,
   "metadata": {},
   "outputs": [],
   "source": [
    "def tax_cals2(tax_rates, income):\n",
    "    #print(taxN_rates)\n",
    "    taxN_rates = sorted(tax_rates, key=lambda x: x[0])\n",
    "    print(taxN_rates)\n",
    "    tax_input = 0\n",
    "    for idx_ubound, tax_rate in taxN_rates:\n",
    "        if income <= idx_ubound:\n",
    "            tax_input += income * tax_rate\n",
    "            break\n",
    "        else:\n",
    "            tax_input += idx_ubound * tax_rate\n",
    "            income -= idx_ubound\n",
    "    return tax_input"
   ]
  },
  {
   "cell_type": "code",
   "execution_count": 60,
   "metadata": {},
   "outputs": [
    {
     "name": "stdout",
     "output_type": "stream",
     "text": [
      "[(50000, 0.08), (100000, 0.1), (150000, 0.15)]\n",
      "6000.0\n"
     ]
    }
   ],
   "source": [
    "tax_in = [(150000, 0.15), (50000, 0.08), (100000, 0.10)]\n",
    "income = 70000\n",
    "tax_out = tax_cals2(tax_in, income)\n",
    "print(tax_out)"
   ]
  },
  {
   "attachments": {},
   "cell_type": "markdown",
   "metadata": {},
   "source": []
  },
  {
   "cell_type": "code",
   "execution_count": 65,
   "metadata": {},
   "outputs": [
    {
     "data": {
      "text/plain": [
       "19.5"
      ]
     },
     "execution_count": 65,
     "metadata": {},
     "output_type": "execute_result"
    }
   ],
   "source": [
    " 50 * 0.08 + 50 * 0.10 + 70 * 0.15 "
   ]
  },
  {
   "cell_type": "code",
   "execution_count": 71,
   "metadata": {},
   "outputs": [
    {
     "data": {
      "text/plain": [
       "16.5"
      ]
     },
     "execution_count": 71,
     "metadata": {},
     "output_type": "execute_result"
    }
   ],
   "source": [
    " 50 * 0.08 + 50 * 0.10 + 50 * 0.15"
   ]
  },
  {
   "cell_type": "code",
   "execution_count": null,
   "metadata": {},
   "outputs": [],
   "source": []
  }
 ],
 "metadata": {
  "kernelspec": {
   "display_name": ".venv",
   "language": "python",
   "name": "python3"
  },
  "language_info": {
   "codemirror_mode": {
    "name": "ipython",
    "version": 3
   },
   "file_extension": ".py",
   "mimetype": "text/x-python",
   "name": "python",
   "nbconvert_exporter": "python",
   "pygments_lexer": "ipython3",
   "version": "3.11.3"
  },
  "toc": {
   "base_numbering": 1,
   "nav_menu": {},
   "number_sections": true,
   "sideBar": true,
   "skip_h1_title": false,
   "title_cell": "Table of Contents",
   "title_sidebar": "Contents",
   "toc_cell": false,
   "toc_position": {},
   "toc_section_display": true,
   "toc_window_display": false
  },
  "varInspector": {
   "cols": {
    "lenName": 16,
    "lenType": 16,
    "lenVar": 40
   },
   "kernels_config": {
    "python": {
     "delete_cmd_postfix": "",
     "delete_cmd_prefix": "del ",
     "library": "var_list.py",
     "varRefreshCmd": "print(var_dic_list())"
    },
    "r": {
     "delete_cmd_postfix": ") ",
     "delete_cmd_prefix": "rm(",
     "library": "var_list.r",
     "varRefreshCmd": "cat(var_dic_list()) "
    }
   },
   "types_to_exclude": [
    "module",
    "function",
    "builtin_function_or_method",
    "instance",
    "_Feature"
   ],
   "window_display": false
  },
  "vscode": {
   "interpreter": {
    "hash": "be7dd07ef673f1c542ac4f7690ce2e5f650b2bc66c3cbf4a3f66e2fce72bd812"
   }
  }
 },
 "nbformat": 4,
 "nbformat_minor": 4
}
